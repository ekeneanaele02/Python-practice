{
 "cells": [
  {
   "cell_type": "markdown",
   "id": "5a2287fd",
   "metadata": {},
   "source": [
    "JupitaAcademy Assignment"
   ]
  },
  {
   "cell_type": "code",
   "execution_count": null,
   "id": "36fb271c",
   "metadata": {},
   "outputs": [],
   "source": [
    "#Question 1 Data Types and Basic Arithmetic \n",
    "#a = Grade 1: 25 students\n",
    "#b = Grade 2: 30 students\n",
    "#c = Grade 3:  28 students \n",
    "#question a; calculating and displaying the total number of students\n"
   ]
  },
  {
   "cell_type": "code",
   "execution_count": null,
   "id": "d6454f22",
   "metadata": {},
   "outputs": [],
   "source": [
    "a = 25\n",
    "b = 30 \n",
    "c = 28 "
   ]
  },
  {
   "cell_type": "code",
   "execution_count": null,
   "id": "dc8201e7",
   "metadata": {},
   "outputs": [],
   "source": [
    "c = a + b + c  "
   ]
  },
  {
   "cell_type": "code",
   "execution_count": null,
   "id": "090b9253",
   "metadata": {},
   "outputs": [],
   "source": [
    "print (c)"
   ]
  },
  {
   "cell_type": "markdown",
   "id": "dff8d497",
   "metadata": {},
   "source": [
    "question b; calculating and displayign the average number of students per grade "
   ]
  },
  {
   "cell_type": "code",
   "execution_count": null,
   "id": "58d53183",
   "metadata": {},
   "outputs": [],
   "source": [
    "c = [a, b, c]\n"
   ]
  },
  {
   "cell_type": "code",
   "execution_count": null,
   "id": "71cc2ae1",
   "metadata": {},
   "outputs": [],
   "source": [
    "average = sum(c)/len(c)\n",
    "\n",
    "print ('average', average)"
   ]
  },
  {
   "cell_type": "code",
   "execution_count": null,
   "id": "8e2eca23",
   "metadata": {},
   "outputs": [],
   "source": [
    "#Question 2 Variable assignments and string manipulation "
   ]
  },
  {
   "cell_type": "code",
   "execution_count": null,
   "id": "ddc4f1fc",
   "metadata": {},
   "outputs": [],
   "source": [
    "a = \"Welcome to Grade 1! We are excited to have you\"\n",
    "b = \"Hello Grade 2 students! Get ready to learn and have fun\"\n",
    "c = \"Welcome Grade 3 students. Let's make this a great year of learning\"\n",
    "\n",
    "\n"
   ]
  },
  {
   "cell_type": "code",
   "execution_count": null,
   "id": "fea3ec54",
   "metadata": {},
   "outputs": [],
   "source": [
    "print (b)"
   ]
  },
  {
   "cell_type": "markdown",
   "id": "05d56778",
   "metadata": {},
   "source": [
    "### Question 3; List and Dictionaries"
   ]
  },
  {
   "cell_type": "code",
   "execution_count": null,
   "id": "b6c3ec32",
   "metadata": {},
   "outputs": [],
   "source": [
    "m = [grade 1, grade 2, grade 3]\n",
    "\n",
    "grade 1 subject = ['maths', 'english', 'science']\n",
    "grade 2 subject = ['English', 'science', 'History']\n",
    "grade 3 subject = ['science', 'history', 'maths']\n"
   ]
  },
  {
   "cell_type": "code",
   "execution_count": null,
   "id": "97551796",
   "metadata": {},
   "outputs": [],
   "source": [
    "#task 3 "
   ]
  },
  {
   "cell_type": "code",
   "execution_count": null,
   "id": "1c90ea13",
   "metadata": {},
   "outputs": [],
   "source": [
    "key = {'a':'Grade 1', 'b':'Grade 2, 'c': 'Grade 3'}\n",
    "value = {'Grade 1': 'Mr  smith', 'Ms Johnson', 'Mr Davis'}\n",
    "value1 = {'Grade 2': 'M illiam', 'Mr Davi', 'MMmm'}"
   ]
  }
 ],
 "metadata": {
  "kernelspec": {
   "display_name": "Python 3 (ipykernel)",
   "language": "python",
   "name": "python3"
  }
 },
 "nbformat": 4,
 "nbformat_minor": 5
}
